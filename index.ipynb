{
 "cells": [
  {
   "cell_type": "markdown",
   "metadata": {},
   "source": [
    "# Multiple Regression Model Evaluation"
   ]
  },
  {
   "cell_type": "markdown",
   "metadata": {},
   "source": [
    "## Introduction\n",
    "\n",
    "Multiple regression models, like simple regression models, can be evaluated using R-Squared (coefficient of determination) for measuring the amount of explained variance, and the F-statistic for determining statistical significance. You also may want to consider using other metrics, including adjusted R-Squared and error-based metrics such as MAE and RMSE. Each metric provides slightly different information, so you will need additional information from stakeholders in order to choose the most appropriate one(s)."
   ]
  },
  {
   "cell_type": "markdown",
   "metadata": {},
   "source": [
    "## Objectives\n",
    "\n",
    "You will be able to:\n",
    "\n",
    "* Measure multiple linear regression model performance using adjusted R-Squared\n",
    "* Measure regression model performance using error-based metrics"
   ]
  },
  {
   "cell_type": "markdown",
   "metadata": {},
   "source": [
    "## Multiple Regression Model with Auto-MPG Dataset\n",
    "\n",
    "In the cell below we load the Auto MPG dataset and build a StatsModels multiple regression model that uses the `weight` and `model year` attributes to predict the `mpg` attribute."
   ]
  },
  {
   "cell_type": "code",
   "execution_count": 30,
   "metadata": {},
   "outputs": [],
   "source": [
    "import pandas as pd\n",
    "import statsmodels.api as sm"
   ]
  },
  {
   "cell_type": "code",
   "execution_count": 31,
   "metadata": {},
   "outputs": [
    {
     "data": {
      "application/vnd.microsoft.datawrangler.viewer.v0+json": {
       "columns": [
        {
         "name": "index",
         "rawType": "int64",
         "type": "integer"
        },
        {
         "name": "mpg",
         "rawType": "float64",
         "type": "float"
        },
        {
         "name": "cylinders",
         "rawType": "int64",
         "type": "integer"
        },
        {
         "name": "displacement",
         "rawType": "float64",
         "type": "float"
        },
        {
         "name": "horsepower",
         "rawType": "int64",
         "type": "integer"
        },
        {
         "name": "weight",
         "rawType": "int64",
         "type": "integer"
        },
        {
         "name": "acceleration",
         "rawType": "float64",
         "type": "float"
        },
        {
         "name": "model year",
         "rawType": "int64",
         "type": "integer"
        },
        {
         "name": "origin",
         "rawType": "int64",
         "type": "integer"
        },
        {
         "name": "car name",
         "rawType": "object",
         "type": "string"
        }
       ],
       "ref": "78f75246-e664-4ebe-9e52-2a9605bb1a04",
       "rows": [
        [
         "0",
         "18.0",
         "8",
         "307.0",
         "130",
         "3504",
         "12.0",
         "70",
         "1",
         "chevrolet chevelle malibu"
        ],
        [
         "1",
         "15.0",
         "8",
         "350.0",
         "165",
         "3693",
         "11.5",
         "70",
         "1",
         "buick skylark 320"
        ],
        [
         "2",
         "18.0",
         "8",
         "318.0",
         "150",
         "3436",
         "11.0",
         "70",
         "1",
         "plymouth satellite"
        ],
        [
         "3",
         "16.0",
         "8",
         "304.0",
         "150",
         "3433",
         "12.0",
         "70",
         "1",
         "amc rebel sst"
        ],
        [
         "4",
         "17.0",
         "8",
         "302.0",
         "140",
         "3449",
         "10.5",
         "70",
         "1",
         "ford torino"
        ],
        [
         "5",
         "15.0",
         "8",
         "429.0",
         "198",
         "4341",
         "10.0",
         "70",
         "1",
         "ford galaxie 500"
        ],
        [
         "6",
         "14.0",
         "8",
         "454.0",
         "220",
         "4354",
         "9.0",
         "70",
         "1",
         "chevrolet impala"
        ],
        [
         "7",
         "14.0",
         "8",
         "440.0",
         "215",
         "4312",
         "8.5",
         "70",
         "1",
         "plymouth fury iii"
        ],
        [
         "8",
         "14.0",
         "8",
         "455.0",
         "225",
         "4425",
         "10.0",
         "70",
         "1",
         "pontiac catalina"
        ],
        [
         "9",
         "15.0",
         "8",
         "390.0",
         "190",
         "3850",
         "8.5",
         "70",
         "1",
         "amc ambassador dpl"
        ],
        [
         "10",
         "15.0",
         "8",
         "383.0",
         "170",
         "3563",
         "10.0",
         "70",
         "1",
         "dodge challenger se"
        ],
        [
         "11",
         "14.0",
         "8",
         "340.0",
         "160",
         "3609",
         "8.0",
         "70",
         "1",
         "plymouth 'cuda 340"
        ],
        [
         "12",
         "15.0",
         "8",
         "400.0",
         "150",
         "3761",
         "9.5",
         "70",
         "1",
         "chevrolet monte carlo"
        ],
        [
         "13",
         "14.0",
         "8",
         "455.0",
         "225",
         "3086",
         "10.0",
         "70",
         "1",
         "buick estate wagon (sw)"
        ],
        [
         "14",
         "24.0",
         "4",
         "113.0",
         "95",
         "2372",
         "15.0",
         "70",
         "3",
         "toyota corona mark ii"
        ],
        [
         "15",
         "22.0",
         "6",
         "198.0",
         "95",
         "2833",
         "15.5",
         "70",
         "1",
         "plymouth duster"
        ],
        [
         "16",
         "18.0",
         "6",
         "199.0",
         "97",
         "2774",
         "15.5",
         "70",
         "1",
         "amc hornet"
        ],
        [
         "17",
         "21.0",
         "6",
         "200.0",
         "85",
         "2587",
         "16.0",
         "70",
         "1",
         "ford maverick"
        ],
        [
         "18",
         "27.0",
         "4",
         "97.0",
         "88",
         "2130",
         "14.5",
         "70",
         "3",
         "datsun pl510"
        ],
        [
         "19",
         "26.0",
         "4",
         "97.0",
         "46",
         "1835",
         "20.5",
         "70",
         "2",
         "volkswagen 1131 deluxe sedan"
        ],
        [
         "20",
         "25.0",
         "4",
         "110.0",
         "87",
         "2672",
         "17.5",
         "70",
         "2",
         "peugeot 504"
        ],
        [
         "21",
         "24.0",
         "4",
         "107.0",
         "90",
         "2430",
         "14.5",
         "70",
         "2",
         "audi 100 ls"
        ],
        [
         "22",
         "25.0",
         "4",
         "104.0",
         "95",
         "2375",
         "17.5",
         "70",
         "2",
         "saab 99e"
        ],
        [
         "23",
         "26.0",
         "4",
         "121.0",
         "113",
         "2234",
         "12.5",
         "70",
         "2",
         "bmw 2002"
        ],
        [
         "24",
         "21.0",
         "6",
         "199.0",
         "90",
         "2648",
         "15.0",
         "70",
         "1",
         "amc gremlin"
        ],
        [
         "25",
         "10.0",
         "8",
         "360.0",
         "215",
         "4615",
         "14.0",
         "70",
         "1",
         "ford f250"
        ],
        [
         "26",
         "10.0",
         "8",
         "307.0",
         "200",
         "4376",
         "15.0",
         "70",
         "1",
         "chevy c20"
        ],
        [
         "27",
         "11.0",
         "8",
         "318.0",
         "210",
         "4382",
         "13.5",
         "70",
         "1",
         "dodge d200"
        ],
        [
         "28",
         "9.0",
         "8",
         "304.0",
         "193",
         "4732",
         "18.5",
         "70",
         "1",
         "hi 1200d"
        ],
        [
         "29",
         "27.0",
         "4",
         "97.0",
         "88",
         "2130",
         "14.5",
         "71",
         "3",
         "datsun pl510"
        ],
        [
         "30",
         "28.0",
         "4",
         "140.0",
         "90",
         "2264",
         "15.5",
         "71",
         "1",
         "chevrolet vega 2300"
        ],
        [
         "31",
         "25.0",
         "4",
         "113.0",
         "95",
         "2228",
         "14.0",
         "71",
         "3",
         "toyota corona"
        ],
        [
         "32",
         "19.0",
         "6",
         "232.0",
         "100",
         "2634",
         "13.0",
         "71",
         "1",
         "amc gremlin"
        ],
        [
         "33",
         "16.0",
         "6",
         "225.0",
         "105",
         "3439",
         "15.5",
         "71",
         "1",
         "plymouth satellite custom"
        ],
        [
         "34",
         "17.0",
         "6",
         "250.0",
         "100",
         "3329",
         "15.5",
         "71",
         "1",
         "chevrolet chevelle malibu"
        ],
        [
         "35",
         "19.0",
         "6",
         "250.0",
         "88",
         "3302",
         "15.5",
         "71",
         "1",
         "ford torino 500"
        ],
        [
         "36",
         "18.0",
         "6",
         "232.0",
         "100",
         "3288",
         "15.5",
         "71",
         "1",
         "amc matador"
        ],
        [
         "37",
         "14.0",
         "8",
         "350.0",
         "165",
         "4209",
         "12.0",
         "71",
         "1",
         "chevrolet impala"
        ],
        [
         "38",
         "14.0",
         "8",
         "400.0",
         "175",
         "4464",
         "11.5",
         "71",
         "1",
         "pontiac catalina brougham"
        ],
        [
         "39",
         "14.0",
         "8",
         "351.0",
         "153",
         "4154",
         "13.5",
         "71",
         "1",
         "ford galaxie 500"
        ],
        [
         "40",
         "14.0",
         "8",
         "318.0",
         "150",
         "4096",
         "13.0",
         "71",
         "1",
         "plymouth fury iii"
        ],
        [
         "41",
         "12.0",
         "8",
         "383.0",
         "180",
         "4955",
         "11.5",
         "71",
         "1",
         "dodge monaco (sw)"
        ],
        [
         "42",
         "13.0",
         "8",
         "400.0",
         "170",
         "4746",
         "12.0",
         "71",
         "1",
         "ford country squire (sw)"
        ],
        [
         "43",
         "13.0",
         "8",
         "400.0",
         "175",
         "5140",
         "12.0",
         "71",
         "1",
         "pontiac safari (sw)"
        ],
        [
         "44",
         "18.0",
         "6",
         "258.0",
         "110",
         "2962",
         "13.5",
         "71",
         "1",
         "amc hornet sportabout (sw)"
        ],
        [
         "45",
         "22.0",
         "4",
         "140.0",
         "72",
         "2408",
         "19.0",
         "71",
         "1",
         "chevrolet vega (sw)"
        ],
        [
         "46",
         "19.0",
         "6",
         "250.0",
         "100",
         "3282",
         "15.0",
         "71",
         "1",
         "pontiac firebird"
        ],
        [
         "47",
         "18.0",
         "6",
         "250.0",
         "88",
         "3139",
         "14.5",
         "71",
         "1",
         "ford mustang"
        ],
        [
         "48",
         "23.0",
         "4",
         "122.0",
         "86",
         "2220",
         "14.0",
         "71",
         "1",
         "mercury capri 2000"
        ],
        [
         "49",
         "28.0",
         "4",
         "116.0",
         "90",
         "2123",
         "14.0",
         "71",
         "2",
         "opel 1900"
        ]
       ],
       "shape": {
        "columns": 9,
        "rows": 392
       }
      },
      "text/html": [
       "<div>\n",
       "<style scoped>\n",
       "    .dataframe tbody tr th:only-of-type {\n",
       "        vertical-align: middle;\n",
       "    }\n",
       "\n",
       "    .dataframe tbody tr th {\n",
       "        vertical-align: top;\n",
       "    }\n",
       "\n",
       "    .dataframe thead th {\n",
       "        text-align: right;\n",
       "    }\n",
       "</style>\n",
       "<table border=\"1\" class=\"dataframe\">\n",
       "  <thead>\n",
       "    <tr style=\"text-align: right;\">\n",
       "      <th></th>\n",
       "      <th>mpg</th>\n",
       "      <th>cylinders</th>\n",
       "      <th>displacement</th>\n",
       "      <th>horsepower</th>\n",
       "      <th>weight</th>\n",
       "      <th>acceleration</th>\n",
       "      <th>model year</th>\n",
       "      <th>origin</th>\n",
       "      <th>car name</th>\n",
       "    </tr>\n",
       "  </thead>\n",
       "  <tbody>\n",
       "    <tr>\n",
       "      <th>0</th>\n",
       "      <td>18.0</td>\n",
       "      <td>8</td>\n",
       "      <td>307.0</td>\n",
       "      <td>130</td>\n",
       "      <td>3504</td>\n",
       "      <td>12.0</td>\n",
       "      <td>70</td>\n",
       "      <td>1</td>\n",
       "      <td>chevrolet chevelle malibu</td>\n",
       "    </tr>\n",
       "    <tr>\n",
       "      <th>1</th>\n",
       "      <td>15.0</td>\n",
       "      <td>8</td>\n",
       "      <td>350.0</td>\n",
       "      <td>165</td>\n",
       "      <td>3693</td>\n",
       "      <td>11.5</td>\n",
       "      <td>70</td>\n",
       "      <td>1</td>\n",
       "      <td>buick skylark 320</td>\n",
       "    </tr>\n",
       "    <tr>\n",
       "      <th>2</th>\n",
       "      <td>18.0</td>\n",
       "      <td>8</td>\n",
       "      <td>318.0</td>\n",
       "      <td>150</td>\n",
       "      <td>3436</td>\n",
       "      <td>11.0</td>\n",
       "      <td>70</td>\n",
       "      <td>1</td>\n",
       "      <td>plymouth satellite</td>\n",
       "    </tr>\n",
       "    <tr>\n",
       "      <th>3</th>\n",
       "      <td>16.0</td>\n",
       "      <td>8</td>\n",
       "      <td>304.0</td>\n",
       "      <td>150</td>\n",
       "      <td>3433</td>\n",
       "      <td>12.0</td>\n",
       "      <td>70</td>\n",
       "      <td>1</td>\n",
       "      <td>amc rebel sst</td>\n",
       "    </tr>\n",
       "    <tr>\n",
       "      <th>4</th>\n",
       "      <td>17.0</td>\n",
       "      <td>8</td>\n",
       "      <td>302.0</td>\n",
       "      <td>140</td>\n",
       "      <td>3449</td>\n",
       "      <td>10.5</td>\n",
       "      <td>70</td>\n",
       "      <td>1</td>\n",
       "      <td>ford torino</td>\n",
       "    </tr>\n",
       "    <tr>\n",
       "      <th>...</th>\n",
       "      <td>...</td>\n",
       "      <td>...</td>\n",
       "      <td>...</td>\n",
       "      <td>...</td>\n",
       "      <td>...</td>\n",
       "      <td>...</td>\n",
       "      <td>...</td>\n",
       "      <td>...</td>\n",
       "      <td>...</td>\n",
       "    </tr>\n",
       "    <tr>\n",
       "      <th>387</th>\n",
       "      <td>27.0</td>\n",
       "      <td>4</td>\n",
       "      <td>140.0</td>\n",
       "      <td>86</td>\n",
       "      <td>2790</td>\n",
       "      <td>15.6</td>\n",
       "      <td>82</td>\n",
       "      <td>1</td>\n",
       "      <td>ford mustang gl</td>\n",
       "    </tr>\n",
       "    <tr>\n",
       "      <th>388</th>\n",
       "      <td>44.0</td>\n",
       "      <td>4</td>\n",
       "      <td>97.0</td>\n",
       "      <td>52</td>\n",
       "      <td>2130</td>\n",
       "      <td>24.6</td>\n",
       "      <td>82</td>\n",
       "      <td>2</td>\n",
       "      <td>vw pickup</td>\n",
       "    </tr>\n",
       "    <tr>\n",
       "      <th>389</th>\n",
       "      <td>32.0</td>\n",
       "      <td>4</td>\n",
       "      <td>135.0</td>\n",
       "      <td>84</td>\n",
       "      <td>2295</td>\n",
       "      <td>11.6</td>\n",
       "      <td>82</td>\n",
       "      <td>1</td>\n",
       "      <td>dodge rampage</td>\n",
       "    </tr>\n",
       "    <tr>\n",
       "      <th>390</th>\n",
       "      <td>28.0</td>\n",
       "      <td>4</td>\n",
       "      <td>120.0</td>\n",
       "      <td>79</td>\n",
       "      <td>2625</td>\n",
       "      <td>18.6</td>\n",
       "      <td>82</td>\n",
       "      <td>1</td>\n",
       "      <td>ford ranger</td>\n",
       "    </tr>\n",
       "    <tr>\n",
       "      <th>391</th>\n",
       "      <td>31.0</td>\n",
       "      <td>4</td>\n",
       "      <td>119.0</td>\n",
       "      <td>82</td>\n",
       "      <td>2720</td>\n",
       "      <td>19.4</td>\n",
       "      <td>82</td>\n",
       "      <td>1</td>\n",
       "      <td>chevy s-10</td>\n",
       "    </tr>\n",
       "  </tbody>\n",
       "</table>\n",
       "<p>392 rows × 9 columns</p>\n",
       "</div>"
      ],
      "text/plain": [
       "      mpg  cylinders  displacement  horsepower  weight  acceleration  \\\n",
       "0    18.0          8         307.0         130    3504          12.0   \n",
       "1    15.0          8         350.0         165    3693          11.5   \n",
       "2    18.0          8         318.0         150    3436          11.0   \n",
       "3    16.0          8         304.0         150    3433          12.0   \n",
       "4    17.0          8         302.0         140    3449          10.5   \n",
       "..    ...        ...           ...         ...     ...           ...   \n",
       "387  27.0          4         140.0          86    2790          15.6   \n",
       "388  44.0          4          97.0          52    2130          24.6   \n",
       "389  32.0          4         135.0          84    2295          11.6   \n",
       "390  28.0          4         120.0          79    2625          18.6   \n",
       "391  31.0          4         119.0          82    2720          19.4   \n",
       "\n",
       "     model year  origin                   car name  \n",
       "0            70       1  chevrolet chevelle malibu  \n",
       "1            70       1          buick skylark 320  \n",
       "2            70       1         plymouth satellite  \n",
       "3            70       1              amc rebel sst  \n",
       "4            70       1                ford torino  \n",
       "..          ...     ...                        ...  \n",
       "387          82       1            ford mustang gl  \n",
       "388          82       2                  vw pickup  \n",
       "389          82       1              dodge rampage  \n",
       "390          82       1                ford ranger  \n",
       "391          82       1                 chevy s-10  \n",
       "\n",
       "[392 rows x 9 columns]"
      ]
     },
     "execution_count": 31,
     "metadata": {},
     "output_type": "execute_result"
    }
   ],
   "source": [
    "data = pd.read_csv(\"auto-mpg.csv\")\n",
    "data"
   ]
  },
  {
   "cell_type": "code",
   "execution_count": 32,
   "metadata": {},
   "outputs": [],
   "source": [
    "y = data[\"mpg\"]\n",
    "X = data[[\"weight\", \"model year\"]]"
   ]
  },
  {
   "cell_type": "code",
   "execution_count": 53,
   "metadata": {},
   "outputs": [
    {
     "name": "stdout",
     "output_type": "stream",
     "text": [
      "                            OLS Regression Results                            \n",
      "==============================================================================\n",
      "Dep. Variable:                    mpg   R-squared:                       0.808\n",
      "Model:                            OLS   Adj. R-squared:                  0.807\n",
      "Method:                 Least Squares   F-statistic:                     819.5\n",
      "Date:                Thu, 31 Jul 2025   Prob (F-statistic):          3.33e-140\n",
      "Time:                        14:25:30   Log-Likelihood:                -1037.6\n",
      "No. Observations:                 392   AIC:                             2081.\n",
      "Df Residuals:                     389   BIC:                             2093.\n",
      "Df Model:                           2                                         \n",
      "Covariance Type:            nonrobust                                         \n",
      "==============================================================================\n",
      "                 coef    std err          t      P>|t|      [0.025      0.975]\n",
      "------------------------------------------------------------------------------\n",
      "const        -14.3473      4.007     -3.581      0.000     -22.224      -6.470\n",
      "weight        -0.0066      0.000    -30.911      0.000      -0.007      -0.006\n",
      "model year     0.7573      0.049     15.308      0.000       0.660       0.855\n",
      "==============================================================================\n",
      "Omnibus:                       42.504   Durbin-Watson:                   1.230\n",
      "Prob(Omnibus):                  0.000   Jarque-Bera (JB):               71.997\n",
      "Skew:                           0.670   Prob(JB):                     2.32e-16\n",
      "Kurtosis:                       4.616   Cond. No.                     7.17e+04\n",
      "==============================================================================\n",
      "\n",
      "Notes:\n",
      "[1] Standard Errors assume that the covariance matrix of the errors is correctly specified.\n",
      "[2] The condition number is large, 7.17e+04. This might indicate that there are\n",
      "strong multicollinearity or other numerical problems.\n"
     ]
    }
   ],
   "source": [
    "model = sm.OLS(y, sm.add_constant(X))\n",
    "results = model.fit()\n",
    "print(results.summary())"
   ]
  },
  {
   "cell_type": "markdown",
   "metadata": {},
   "source": [
    "## Reviewing F-Statistic and R-Squared\n",
    "\n",
    "First, we can check the model's F-statistic and F-statistic p-value to see if the model was statistically significant overall:"
   ]
  },
  {
   "cell_type": "code",
   "execution_count": 54,
   "metadata": {},
   "outputs": [
    {
     "data": {
      "text/plain": [
       "(819.4730484488962, 3.332163145138581e-140)"
      ]
     },
     "execution_count": 54,
     "metadata": {},
     "output_type": "execute_result"
    }
   ],
   "source": [
    "results.fvalue, results.f_pvalue"
   ]
  },
  {
   "cell_type": "markdown",
   "metadata": {},
   "source": [
    "Based on this very small p-value, we can say that the model is statistically significant.\n",
    "\n",
    "We can also check the R-Squared (coefficient of determination):"
   ]
  },
  {
   "cell_type": "code",
   "execution_count": 35,
   "metadata": {},
   "outputs": [
    {
     "data": {
      "text/plain": [
       "0.8081803058793996"
      ]
     },
     "execution_count": 35,
     "metadata": {},
     "output_type": "execute_result"
    }
   ],
   "source": [
    "results.rsquared"
   ]
  },
  {
   "cell_type": "markdown",
   "metadata": {},
   "source": [
    "This means that our model is explaining about 81% of the variance in `mpg`."
   ]
  },
  {
   "cell_type": "markdown",
   "metadata": {},
   "source": [
    "## Limitations of R-Squared\n",
    "\n",
    "R-Squared is conventionally the \"to-go\" measurement for overall model performance, but it has some drawbacks.\n",
    "\n",
    "First, as we add more predictors, R-Squared is only going to increase. More predictors allow the model an extra degree of freedom in trying to approximate a target. But this doesn't necessarily mean we have a better model, since we're likely to start seeing coefficients that are unstable and potentially not statistically significant. (We'll also see that these models might violate some of the _assumptions_ of linear regression, which we'll describe in more detail later.)\n",
    "\n",
    "To address this issue, consider using **adjusted R-Squared**. This version of R-Squared includes a correction for the number of predictors used.\n",
    "\n",
    "Second, \"proportion of variance explained\" may not be the best way to describe your model's performance. It is very sensitive to the variance in the available data, where a very small variance in the predictors can lead to a small R-Squared and a very large variance in the predictors can lead to a large R-Squared, regardless of how well the model actually describes the true relationship between the variables. It can also be challenging to use when communicating with non-technical stakeholders who are less likely to have an understanding of \"variance\".\n",
    "\n",
    "To address this issue, consider using an **error-based metric**. These measure the performance in terms of the errors (residuals), using various techniques to aggregate and summarize them."
   ]
  },
  {
   "cell_type": "markdown",
   "metadata": {},
   "source": [
    "## Adjusted R-Squared\n",
    "\n",
    "Adjusted R-Squared is still following the fundamental concept of \"proportion of variance explained\", except that the numerator and denominator are adjusted based on the degrees of freedom for the residuals\n",
    "\n",
    "Recall that this is the formula for R-Squared:\n",
    "\n",
    "$$ \\large{ R^2 = \\frac{ESS}{TSS} = \\frac{\\sum_i{(\\hat{y_i} - \\bar{y_i})^2}}{\\sum_i(y_i - \\bar{y_i})^2}} $$\n",
    "\n",
    "and that we can rewrite this to be:\n",
    "\n",
    "$$ \\large{ R^2 = 1 - \\frac{RSS}{TSS} = 1 - \\frac{\\sum_i(y_i - \\hat{y_i})^2}{\\sum_i(y_i - \\bar{y_i})^2}} $$\n",
    "\n",
    "Adjusted R-Squared, also written $\\bar{R^2}$, takes the $RSS$ value and divides it by the degrees of freedom of the residuals, and takes the $TSS$ value and divides it by the degrees of freedom of the total.\n",
    "\n",
    "$$ \\large{ \\bar{R^2} = 1 - \\frac{RSS / df_{resid}}{TSS / df_{total}} = 1 - \\frac{(RSS)}{(TSS)} \\frac{(df_{total})}{(df_{resid})}} $$\n",
    "\n",
    "We can calculate it ourselves like this:"
   ]
  },
  {
   "cell_type": "code",
   "execution_count": 55,
   "metadata": {},
   "outputs": [
    {
     "data": {
      "text/plain": [
       "4568.952041558537"
      ]
     },
     "execution_count": 55,
     "metadata": {},
     "output_type": "execute_result"
    }
   ],
   "source": [
    "y_pred = results.predict(sm.add_constant(X)) # use fitted model to generate predictions for y\n",
    "rss = ((y_pred - y) ** 2).sum()\n",
    "rss"
   ]
  },
  {
   "cell_type": "code",
   "execution_count": 56,
   "metadata": {},
   "outputs": [
    {
     "data": {
      "text/plain": [
       "23818.99346938776"
      ]
     },
     "execution_count": 56,
     "metadata": {},
     "output_type": "execute_result"
    }
   ],
   "source": [
    "intercept_only_line = pd.Series([y.mean() for x in range(len(y))])\n",
    "tss = ((y - intercept_only_line) ** 2).sum()\n",
    "tss"
   ]
  },
  {
   "cell_type": "code",
   "execution_count": 57,
   "metadata": {},
   "outputs": [
    {
     "data": {
      "text/plain": [
       "389"
      ]
     },
     "execution_count": 57,
     "metadata": {},
     "output_type": "execute_result"
    }
   ],
   "source": [
    "df_resid = len(y) - sm.add_constant(X).shape[1] # num observations - num parameters (including constant)\n",
    "df_resid"
   ]
  },
  {
   "cell_type": "code",
   "execution_count": 58,
   "metadata": {},
   "outputs": [
    {
     "data": {
      "text/plain": [
       "391"
      ]
     },
     "execution_count": 58,
     "metadata": {},
     "output_type": "execute_result"
    }
   ],
   "source": [
    "df_tot = len(y) - 1 # number observations - 1\n",
    "df_tot"
   ]
  },
  {
   "cell_type": "code",
   "execution_count": 59,
   "metadata": {},
   "outputs": [
    {
     "data": {
      "text/plain": [
       "0.8071940863723529"
      ]
     },
     "execution_count": 59,
     "metadata": {},
     "output_type": "execute_result"
    }
   ],
   "source": [
    "1 - (rss / tss) * (df_tot / df_resid)"
   ]
  },
  {
   "cell_type": "markdown",
   "metadata": {},
   "source": [
    "If we already have the value of R-Squared, we can also calculate it like this:\n",
    "\n",
    "$$ \\large{ \\bar{R^2} = 1 - (1 - R^2) \\frac{df_{total}}{df_{resid}}} $$"
   ]
  },
  {
   "cell_type": "code",
   "execution_count": 60,
   "metadata": {},
   "outputs": [
    {
     "data": {
      "text/plain": [
       "0.8071940863723528"
      ]
     },
     "execution_count": 60,
     "metadata": {},
     "output_type": "execute_result"
    }
   ],
   "source": [
    "1 - (1 - results.rsquared) * (df_tot / df_resid)"
   ]
  },
  {
   "cell_type": "markdown",
   "metadata": {},
   "source": [
    "...but actually we don't have to do either of those things, because **StatsModels will also calculate adjusted R-Squared for us**!"
   ]
  },
  {
   "cell_type": "code",
   "execution_count": 61,
   "metadata": {},
   "outputs": [
    {
     "data": {
      "text/plain": [
       "0.8071940863723528"
      ]
     },
     "execution_count": 61,
     "metadata": {},
     "output_type": "execute_result"
    }
   ],
   "source": [
    "results.rsquared_adj"
   ]
  },
  {
   "cell_type": "markdown",
   "metadata": {},
   "source": [
    "If you compare this to the non-adjusted version of R-Squared, you'll see that it is fairly similar."
   ]
  },
  {
   "cell_type": "code",
   "execution_count": 62,
   "metadata": {},
   "outputs": [
    {
     "data": {
      "text/plain": [
       "0.8081803058793996"
      ]
     },
     "execution_count": 62,
     "metadata": {},
     "output_type": "execute_result"
    }
   ],
   "source": [
    "results.rsquared"
   ]
  },
  {
   "cell_type": "markdown",
   "metadata": {},
   "source": [
    "However we typically prefer using adjusted R-Squared if we're doing multiple regression modeling because adjusted R-Squared essentially only increases when the increase in variance explained is more than what we would expect to see due to chance."
   ]
  },
  {
   "cell_type": "markdown",
   "metadata": {},
   "source": [
    "## Error-Based Metrics\n",
    "\n",
    "Some issues with R-Squared can't be addressed with small tweaks like adjusted R-Squared. [This lecture that went viral on Reddit in 2015](https://www.stat.cmu.edu/~cshalizi/mreg/15/lectures/10/lecture-10.pdf), for example, argues that R-Squared is \"useless\". We won't go that far, but there are some cases where an \"error-based\" metric would be more appropriate than R-Squared.\n",
    "\n",
    "While R-Squared is a ***relative*** metric that compares the variance explained by the model to the variance explained by an intercept-only \"baseline\" model, most error-based metrics are ***absolute*** metrics that describe some form of average error.\n",
    "\n",
    "(Technically R-Squared is also based on errors, but it's more indirect, so when we refer to \"error-based\" metrics we mean those that are more directly measuring average error.)\n",
    "\n",
    "### Why Not Just Sum the Residuals?\n",
    "\n",
    "If we just find the sum of the residuals and divide it by the number of observations, we will get a very tiny value, like this:"
   ]
  },
  {
   "cell_type": "code",
   "execution_count": 63,
   "metadata": {},
   "outputs": [
    {
     "data": {
      "text/plain": [
       "9.331311233910703e-14"
      ]
     },
     "execution_count": 63,
     "metadata": {},
     "output_type": "execute_result"
    }
   ],
   "source": [
    "results.resid.sum() / len(y)"
   ]
  },
  {
   "cell_type": "markdown",
   "metadata": {},
   "source": [
    "This is because the residuals are a combination of positive and negative values."
   ]
  },
  {
   "cell_type": "code",
   "execution_count": 64,
   "metadata": {},
   "outputs": [
    {
     "data": {
      "application/vnd.microsoft.datawrangler.viewer.v0+json": {
       "columns": [
        {
         "name": "index",
         "rawType": "int64",
         "type": "integer"
        },
        {
         "name": "0",
         "rawType": "float64",
         "type": "float"
        }
       ],
       "ref": "78204682-f6e9-4abc-b7b7-b924ae492b15",
       "rows": [
        [
         "0",
         "2.5737651720636805"
        ],
        [
         "1",
         "0.8272274022208137"
        ],
        [
         "2",
         "2.1227840522187904"
        ],
        [
         "3",
         "0.10288782634327731"
        ],
        [
         "4",
         "1.2090010310126686"
        ],
        [
         "5",
         "5.124812191330967"
        ],
        [
         "6",
         "4.211029170124839"
        ],
        [
         "7",
         "3.932482007867705"
        ],
        [
         "8",
         "4.681906515845242"
        ],
        [
         "9",
         "1.8684632230391642"
        ],
        [
         "10",
         "-0.034942385717954494"
        ],
        [
         "11",
         "-0.7298669222934677"
        ],
        [
         "12",
         "1.2782085220657038"
        ],
        [
         "13",
         "-4.198442299924039"
        ],
        [
         "14",
         "1.0662559417045827"
        ],
        [
         "15",
         "2.1236426512412834"
        ],
        [
         "16",
         "-2.2676497909770816"
        ],
        [
         "17",
         "-0.5078478705505347"
        ],
        [
         "18",
         "2.4612937210801142"
        ],
        [
         "19",
         "-0.49516849001170016"
        ],
        [
         "20",
         "4.05587852925558"
        ],
        [
         "21",
         "1.4509163086311077"
        ],
        [
         "22",
         "2.086152167580096"
        ],
        [
         "23",
         "2.151029551431126"
        ],
        [
         "24",
         "-0.10329127774849667"
        ],
        [
         "25",
         "1.942000821294208"
        ],
        [
         "26",
         "0.356934826545249"
        ],
        [
         "27",
         "1.396727278296268"
        ],
        [
         "28",
         "1.7179536304390979"
        ],
        [
         "29",
         "1.7039754401065785"
        ],
        [
         "30",
         "3.5926735292126892"
        ],
        [
         "31",
         "0.35391881870657116"
        ],
        [
         "32",
         "-2.9534586128077436"
        ],
        [
         "33",
         "-0.6146380028792393"
        ],
        [
         "34",
         "-0.3441662849812701"
        ],
        [
         "35",
         "1.4767676821391404"
        ],
        [
         "36",
         "0.38391862805342925"
        ],
        [
         "37",
         "2.4920599718349905"
        ],
        [
         "38",
         "4.183239171253341"
        ],
        [
         "39",
         "2.1272958307839716"
        ],
        [
         "40",
         "1.7426354638574466"
        ],
        [
         "41",
         "5.439588139545137"
        ],
        [
         "42",
         "5.053484403551273"
        ],
        [
         "43",
         "7.666522068534917"
        ],
        [
         "44",
         "-1.7781379170853242"
        ],
        [
         "45",
         "-1.4523076287628314"
        ],
        [
         "46",
         "1.3441261763024102"
        ],
        [
         "47",
         "-0.6042605904302363"
        ],
        [
         "48",
         "-1.6991377836281245"
        ],
        [
         "49",
         "2.657550913063723"
        ]
       ],
       "shape": {
        "columns": 1,
        "rows": 392
       }
      },
      "text/plain": [
       "0       2.573765\n",
       "1       0.827227\n",
       "2       2.122784\n",
       "3       0.102888\n",
       "4       1.209001\n",
       "         ...    \n",
       "387    -2.249356\n",
       "388    10.373474\n",
       "389    -0.532233\n",
       "390    -2.343648\n",
       "391     1.286399\n",
       "Length: 392, dtype: float64"
      ]
     },
     "execution_count": 64,
     "metadata": {},
     "output_type": "execute_result"
    }
   ],
   "source": [
    "results.resid"
   ]
  },
  {
   "cell_type": "markdown",
   "metadata": {},
   "source": [
    "When you add a positive residual value (where the model predicted a value that was too low) and a negative residual (where the model predicted a value that was too high), these \"cancel each other out\". But from our perspective, both of those were errors, and both should be counted. If we want this to happen, we need to transform them in some way."
   ]
  },
  {
   "cell_type": "markdown",
   "metadata": {},
   "source": [
    "### Mean Absolute Error\n",
    "\n",
    "***Mean absolute error (MAE)*** calculates the **absolute value** of each error before adding it to the sum. We can just use the `.abs()` method on the residuals series to do this:"
   ]
  },
  {
   "cell_type": "code",
   "execution_count": 65,
   "metadata": {},
   "outputs": [
    {
     "data": {
      "application/vnd.microsoft.datawrangler.viewer.v0+json": {
       "columns": [
        {
         "name": "index",
         "rawType": "int64",
         "type": "integer"
        },
        {
         "name": "0",
         "rawType": "float64",
         "type": "float"
        }
       ],
       "ref": "c1a6305b-da9a-47de-8d10-d73207d33525",
       "rows": [
        [
         "0",
         "2.5737651720636805"
        ],
        [
         "1",
         "0.8272274022208137"
        ],
        [
         "2",
         "2.1227840522187904"
        ],
        [
         "3",
         "0.10288782634327731"
        ],
        [
         "4",
         "1.2090010310126686"
        ],
        [
         "5",
         "5.124812191330967"
        ],
        [
         "6",
         "4.211029170124839"
        ],
        [
         "7",
         "3.932482007867705"
        ],
        [
         "8",
         "4.681906515845242"
        ],
        [
         "9",
         "1.8684632230391642"
        ],
        [
         "10",
         "0.034942385717954494"
        ],
        [
         "11",
         "0.7298669222934677"
        ],
        [
         "12",
         "1.2782085220657038"
        ],
        [
         "13",
         "4.198442299924039"
        ],
        [
         "14",
         "1.0662559417045827"
        ],
        [
         "15",
         "2.1236426512412834"
        ],
        [
         "16",
         "2.2676497909770816"
        ],
        [
         "17",
         "0.5078478705505347"
        ],
        [
         "18",
         "2.4612937210801142"
        ],
        [
         "19",
         "0.49516849001170016"
        ],
        [
         "20",
         "4.05587852925558"
        ],
        [
         "21",
         "1.4509163086311077"
        ],
        [
         "22",
         "2.086152167580096"
        ],
        [
         "23",
         "2.151029551431126"
        ],
        [
         "24",
         "0.10329127774849667"
        ],
        [
         "25",
         "1.942000821294208"
        ],
        [
         "26",
         "0.356934826545249"
        ],
        [
         "27",
         "1.396727278296268"
        ],
        [
         "28",
         "1.7179536304390979"
        ],
        [
         "29",
         "1.7039754401065785"
        ],
        [
         "30",
         "3.5926735292126892"
        ],
        [
         "31",
         "0.35391881870657116"
        ],
        [
         "32",
         "2.9534586128077436"
        ],
        [
         "33",
         "0.6146380028792393"
        ],
        [
         "34",
         "0.3441662849812701"
        ],
        [
         "35",
         "1.4767676821391404"
        ],
        [
         "36",
         "0.38391862805342925"
        ],
        [
         "37",
         "2.4920599718349905"
        ],
        [
         "38",
         "4.183239171253341"
        ],
        [
         "39",
         "2.1272958307839716"
        ],
        [
         "40",
         "1.7426354638574466"
        ],
        [
         "41",
         "5.439588139545137"
        ],
        [
         "42",
         "5.053484403551273"
        ],
        [
         "43",
         "7.666522068534917"
        ],
        [
         "44",
         "1.7781379170853242"
        ],
        [
         "45",
         "1.4523076287628314"
        ],
        [
         "46",
         "1.3441261763024102"
        ],
        [
         "47",
         "0.6042605904302363"
        ],
        [
         "48",
         "1.6991377836281245"
        ],
        [
         "49",
         "2.657550913063723"
        ]
       ],
       "shape": {
        "columns": 1,
        "rows": 392
       }
      },
      "text/plain": [
       "0       2.573765\n",
       "1       0.827227\n",
       "2       2.122784\n",
       "3       0.102888\n",
       "4       1.209001\n",
       "         ...    \n",
       "387     2.249356\n",
       "388    10.373474\n",
       "389     0.532233\n",
       "390     2.343648\n",
       "391     1.286399\n",
       "Length: 392, dtype: float64"
      ]
     },
     "execution_count": 65,
     "metadata": {},
     "output_type": "execute_result"
    }
   ],
   "source": [
    "results.resid.abs()"
   ]
  },
  {
   "cell_type": "code",
   "execution_count": 66,
   "metadata": {},
   "outputs": [
    {
     "data": {
      "text/plain": [
       "2.6080118582387146"
      ]
     },
     "execution_count": 66,
     "metadata": {},
     "output_type": "execute_result"
    }
   ],
   "source": [
    "mae = results.resid.abs().sum() / len(y)\n",
    "mae"
   ]
  },
  {
   "cell_type": "markdown",
   "metadata": {},
   "source": [
    "#### MAE Interpretation\n",
    "\n",
    "Unlike R-Squared, the units of MAE are in the units of $y$. Our target variable is `mpg`, so this result is in miles per gallon.\n",
    "\n",
    "For this specific MAE value, it means that ***our model is off by about 2.6 miles per gallon in a given prediction***.\n",
    "\n",
    "Is this a \"good\" MAE? In general, a lower MAE is better, and the smallest theoretically possible MAE is 0.\n",
    "\n",
    "Your MAE will use the same units as the target, so a \"good\" MAE varies accordingly. For example, an MAE of 100 would be pretty bad if the target is the fuel economy of a car in MPG, but an MAE of 100 would be excellent if the target is the price of a house in USD.\n",
    "\n",
    "Like with any other metric, you would need more context from stakeholders to be able to answer this question more precisely."
   ]
  },
  {
   "cell_type": "markdown",
   "metadata": {},
   "source": [
    "### Root Mean Squared Error\n",
    "\n",
    "Another popular error-based metric is root mean squared error. ***Root mean squared error (RMSE)*** calculates the **squared** value of each error, sums them, then takes the **square root** at the end.\n",
    "\n",
    "We can use broadcasting with `**` (since $\\sqrt{x}$ is the same as $x^{0.5}$) to calculate this:"
   ]
  },
  {
   "cell_type": "code",
   "execution_count": 67,
   "metadata": {},
   "outputs": [
    {
     "data": {
      "application/vnd.microsoft.datawrangler.viewer.v0+json": {
       "columns": [
        {
         "name": "index",
         "rawType": "int64",
         "type": "integer"
        },
        {
         "name": "0",
         "rawType": "float64",
         "type": "float"
        }
       ],
       "ref": "ee839f8b-bac5-4ebb-a9d0-3e9abd48285b",
       "rows": [
        [
         "0",
         "6.624267160927987"
        ],
        [
         "1",
         "0.6843051749849959"
        ],
        [
         "2",
         "4.506212132354428"
        ],
        [
         "3",
         "0.010585904809644388"
        ],
        [
         "4",
         "1.4616834929896958"
        ],
        [
         "5",
         "26.263699996414513"
        ],
        [
         "6",
         "17.73276667164229"
        ],
        [
         "7",
         "15.464414742203216"
        ],
        [
         "8",
         "21.92024862311413"
        ],
        [
         "9",
         "3.4911548158499017"
        ],
        [
         "10",
         "0.0012209703196623101"
        ],
        [
         "11",
         "0.5327057242581389"
        ],
        [
         "12",
         "1.6338170258813907"
        ],
        [
         "13",
         "17.626917745791456"
        ],
        [
         "14",
         "1.1369017332203264"
        ],
        [
         "15",
         "4.509858110171107"
        ],
        [
         "16",
         "5.142235574518402"
        ],
        [
         "17",
         "0.25790945962271267"
        ],
        [
         "18",
         "6.057966781428395"
        ],
        [
         "19",
         "0.2451918335004672"
        ],
        [
         "20",
         "16.450150644076405"
        ],
        [
         "21",
         "2.10515813465172"
        ],
        [
         "22",
         "4.352030866299132"
        ],
        [
         "23",
         "4.626928131129991"
        ],
        [
         "24",
         "0.010669088058917083"
        ],
        [
         "25",
         "3.771367189907378"
        ],
        [
         "26",
         "0.12740247040088698"
        ],
        [
         "27",
         "1.9508470899369008"
        ],
        [
         "28",
         "2.9513646763388763"
        ],
        [
         "29",
         "2.903532300486408"
        ],
        [
         "30",
         "12.907303087505559"
        ],
        [
         "31",
         "0.12525853023465477"
        ],
        [
         "32",
         "8.722917777568242"
        ],
        [
         "33",
         "0.3777798745833798"
        ],
        [
         "34",
         "0.11845043171780884"
        ],
        [
         "35",
         "2.1808427870106093"
        ],
        [
         "36",
         "0.14739351296642736"
        ],
        [
         "37",
         "6.210362903222213"
        ],
        [
         "38",
         "17.49948996390834"
        ],
        [
         "39",
         "4.5253875516708675"
        ],
        [
         "40",
         "3.036778359893658"
        ],
        [
         "41",
         "29.589119127880124"
        ],
        [
         "42",
         "25.53770461693597"
        ],
        [
         "43",
         "58.7755606273329"
        ],
        [
         "44",
         "3.161774452176535"
        ],
        [
         "45",
         "2.109197448562718"
        ],
        [
         "46",
         "1.8066751778213377"
        ],
        [
         "47",
         "0.36513086114709775"
        ],
        [
         "48",
         "2.8870692077526954"
        ],
        [
         "49",
         "7.062576855525827"
        ]
       ],
       "shape": {
        "columns": 1,
        "rows": 392
       }
      },
      "text/plain": [
       "0        6.624267\n",
       "1        0.684305\n",
       "2        4.506212\n",
       "3        0.010586\n",
       "4        1.461683\n",
       "          ...    \n",
       "387      5.059602\n",
       "388    107.608970\n",
       "389      0.283272\n",
       "390      5.492688\n",
       "391      1.654822\n",
       "Length: 392, dtype: float64"
      ]
     },
     "execution_count": 67,
     "metadata": {},
     "output_type": "execute_result"
    }
   ],
   "source": [
    "results.resid ** 2"
   ]
  },
  {
   "cell_type": "code",
   "execution_count": 68,
   "metadata": {},
   "outputs": [
    {
     "data": {
      "text/plain": [
       "3.4140137524525356"
      ]
     },
     "execution_count": 68,
     "metadata": {},
     "output_type": "execute_result"
    }
   ],
   "source": [
    "rmse = ((results.resid ** 2).sum() / len(y)) ** 0.5\n",
    "rmse"
   ]
  },
  {
   "cell_type": "markdown",
   "metadata": {},
   "source": [
    "#### Root Mean Squared Error Interpretation\n",
    "\n",
    "Even though the formula is different from MAE, the RMSE value is conventionally interpreted the same way.\n",
    "\n",
    "For this specific RMSE value, it means that ***our model is off by about 3.4 miles per gallon in a given prediction***."
   ]
  },
  {
   "cell_type": "markdown",
   "metadata": {},
   "source": [
    "### Comparing MAE and RMSE\n",
    "\n",
    "Since both of these metrics express error in the same units, how do you know which one to choose?\n",
    "\n",
    "The main question to consider is whether linearly increasing errors should be seen as ***linearly*** worse or ***exponentially*** worse. Consider the comparison of an error of 1 vs. an error of 10. Clearly an error of 10 is worse, but how much worse is it? If 10 is 10x worse than 1, that means MAE is a good metric. If 10 is 100x worse than 1, that means RMSE is a good metric.\n",
    "\n",
    "There are also contexts related to _gradient descent_ where RMSE is more mathematically appropriate, which become relevant when we move beyond models with \"closed-form\" solutions like ordinary least squares."
   ]
  },
  {
   "cell_type": "markdown",
   "metadata": {},
   "source": [
    "### Calculating Metrics with Scikit-Learn\n",
    "\n",
    "Rather than performing the math yourself to calculate MAE or RMSE, you can import functions from scikit-learn to make the task a bit easier."
   ]
  },
  {
   "cell_type": "code",
   "execution_count": 69,
   "metadata": {},
   "outputs": [],
   "source": [
    "from sklearn.metrics import mean_absolute_error, mean_squared_error"
   ]
  },
  {
   "cell_type": "markdown",
   "metadata": {},
   "source": [
    "`mean_absolute_error` ([documentation here](https://scikit-learn.org/stable/modules/generated/sklearn.metrics.mean_absolute_error.html)) is very straightforward to use for calculating MAE. You pass in the true $y$ values along with the predicted $\\hat{y}$ values, and it returns a score."
   ]
  },
  {
   "cell_type": "code",
   "execution_count": 70,
   "metadata": {},
   "outputs": [
    {
     "data": {
      "text/plain": [
       "2.6080118582387146"
      ]
     },
     "execution_count": 70,
     "metadata": {},
     "output_type": "execute_result"
    }
   ],
   "source": [
    "mean_absolute_error(y, y_pred)"
   ]
  },
  {
   "cell_type": "markdown",
   "metadata": {},
   "source": [
    "`mean_squared_error` ([documentation here](https://scikit-learn.org/stable/modules/generated/sklearn.metrics.mean_squared_error.html)) is a bit more complicated to use for calculating RMSE. In addition to passing in $y$ and $\\hat{y}$, you need to specify `squared=False` to get RMSE. If you skip that third argument (or pass in `True` rather than `False`), you'll get MSE (mean squared error, without taking the square root at the end), which is useful in some machine learning contexts but challenging to describe to a stakeholder."
   ]
  },
  {
   "cell_type": "code",
   "execution_count": 71,
   "metadata": {},
   "outputs": [
    {
     "data": {
      "text/plain": [
       "3.4140137524525356"
      ]
     },
     "execution_count": 71,
     "metadata": {},
     "output_type": "execute_result"
    }
   ],
   "source": [
    "mean_squared_error(y, y_pred, squared=False)"
   ]
  },
  {
   "cell_type": "markdown",
   "metadata": {},
   "source": [
    "## Summary\n",
    "\n",
    "In this lesson you learned about some additional ways to evaluate regression model performance: adjusted R-Squared and error-based metrics. Adjusted R-Squared, like R-Squared, measures the percentage of variance explained, but it is adjusted to account for additional predictors being added. You can get the adjusted R-Squared value by using the `rsquared_adj` attribute of the StatsModels summary. Error-based metrics, such as MAE and RMSE, summarize the average errors made by the model, rather than the variance explained. You can calculate them using functions imported from scikit-learn."
   ]
  }
 ],
 "metadata": {
  "kernelspec": {
   "display_name": "learn-env",
   "language": "python",
   "name": "python3"
  },
  "language_info": {
   "codemirror_mode": {
    "name": "ipython",
    "version": 3
   },
   "file_extension": ".py",
   "mimetype": "text/x-python",
   "name": "python",
   "nbconvert_exporter": "python",
   "pygments_lexer": "ipython3",
   "version": "3.8.20"
  }
 },
 "nbformat": 4,
 "nbformat_minor": 4
}
